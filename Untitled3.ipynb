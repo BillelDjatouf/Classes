{
 "cells": [
  {
   "cell_type": "code",
   "execution_count": 5,
   "id": "bbff5562",
   "metadata": {},
   "outputs": [
    {
     "name": "stdout",
     "output_type": "stream",
     "text": [
      "(11, 1, 6)\n",
      "[1, 2, 3]\n"
     ]
    }
   ],
   "source": [
    "class Point3D():\n",
    "    def __init__(self,a,b,c):\n",
    "        self.x = a\n",
    "        self.y = b\n",
    "        self.z = c\n",
    "    def meth(self):\n",
    "        return self.x,self.y,self.z\n",
    "    \n",
    "obj1 = Point3D(11,1,6)\n",
    "print(obj1.meth())\n",
    "\n",
    "obj2 = Point3D(1,2,3)\n",
    "list1= []\n",
    "list1.append(obj2.x)\n",
    "list1.append(obj2.y)\n",
    "list1.append(obj2.z)\n",
    "print(list1)"
   ]
  },
  {
   "cell_type": "code",
   "execution_count": 6,
   "id": "c94a204d",
   "metadata": {},
   "outputs": [
    {
     "name": "stdout",
     "output_type": "stream",
     "text": [
      "50\n",
      "30\n",
      "12\n",
      "14\n"
     ]
    }
   ],
   "source": [
    "class rectangle():\n",
    "    \n",
    "    def __init__(self,l,w):\n",
    "        self.length = l\n",
    "        self.width = w\n",
    "        \n",
    "    def area(self):\n",
    "        A = self.length*self.width\n",
    "        return A\n",
    "    def perimeter(self):\n",
    "        P = (self.length+self.width)*2\n",
    "        return P\n",
    "        \n",
    "        \n",
    "obj1= rectangle(10,5)\n",
    "print(obj1.area())\n",
    "print(obj1.perimeter())\n",
    "\n",
    "obj2= rectangle(4,3)\n",
    "print(obj2.area())\n",
    "print(obj2.perimeter())"
   ]
  },
  {
   "cell_type": "code",
   "execution_count": 7,
   "id": "4cde9897",
   "metadata": {},
   "outputs": [
    {
     "name": "stdout",
     "output_type": "stream",
     "text": [
      "12226.61610970963\n",
      "125.66370614359172\n",
      "The point is inside the circle\n",
      "90\n"
     ]
    }
   ],
   "source": [
    "from math import pi\n",
    "\n",
    "class circle():\n",
    "    \n",
    "    def __init__(self,center_x,center_y,px,py,radius):\n",
    "        self.cx = center_x\n",
    "        self.cy = center_y\n",
    "        self.r = radius\n",
    "        \n",
    "    def area(self):\n",
    "        A = self.r**pi\n",
    "        return A\n",
    "    \n",
    "    def perimeter(self):\n",
    "        P = 2*pi*self.r\n",
    "        return P\n",
    "    \n",
    "    def isinside(self,pointx,pointy):\n",
    "        S = (pointx - self.cx)**2 + (pointy - self.cy)**2\n",
    "        if S <= self.r**2:\n",
    "            print(\"The point is inside the circle\")\n",
    "            return S\n",
    "        else:\n",
    "            print(\"The point is outside the circle\")\n",
    "        \n",
    "obj1 = circle(10,5,5,15,20)\n",
    "\n",
    "print(obj1.area())\n",
    "print(obj1.perimeter())\n",
    "print(obj1.isinside(1,2))"
   ]
  },
  {
   "cell_type": "code",
   "execution_count": 8,
   "id": "6b6f9a45",
   "metadata": {},
   "outputs": [
    {
     "name": "stdout",
     "output_type": "stream",
     "text": [
      "1000\n",
      "11000\n",
      "1990\n",
      "9010\n"
     ]
    }
   ],
   "source": [
    "class bank_account():\n",
    "    \n",
    "    def __init__(self,a):\n",
    "        self.balance = a\n",
    "        \n",
    "    def deposit(self):\n",
    "        deposit=int(input())\n",
    "        self.balance = self.balance + deposit\n",
    "        return str(self.balance)\n",
    "    \n",
    "    def withdraw(self):\n",
    "        withdraw=int(input())\n",
    "        self.balance = self.balance - withdraw\n",
    "        return str(self.balance)\n",
    "    \n",
    "obj1=bank_account(10000)\n",
    "print(obj1.deposit())\n",
    "print(obj1.withdraw())"
   ]
  },
  {
   "cell_type": "code",
   "execution_count": null,
   "id": "3cb7a7cf",
   "metadata": {},
   "outputs": [],
   "source": []
  }
 ],
 "metadata": {
  "kernelspec": {
   "display_name": "Python 3 (ipykernel)",
   "language": "python",
   "name": "python3"
  },
  "language_info": {
   "codemirror_mode": {
    "name": "ipython",
    "version": 3
   },
   "file_extension": ".py",
   "mimetype": "text/x-python",
   "name": "python",
   "nbconvert_exporter": "python",
   "pygments_lexer": "ipython3",
   "version": "3.9.12"
  }
 },
 "nbformat": 4,
 "nbformat_minor": 5
}
